{
 "cells": [
  {
   "cell_type": "code",
   "execution_count": 33,
   "metadata": {},
   "outputs": [],
   "source": [
    "import pandas as pd\n",
    "import numpy as np\n",
    "import matplotlib.pyplot as plt\n",
    "from sklearn.model_selection import train_test_split\n",
    "from sklearn.ensemble import RandomForestRegressor\n",
    "from sklearn.metrics import r2_score\n",
    "from sklearn.model_selection import RandomizedSearchCV\n",
    "from sklearn.preprocessing import LabelEncoder, PolynomialFeatures\n",
    "from category_encoders import TargetEncoder, OneHotEncoder\n",
    "from scipy import stats"
   ]
  },
  {
   "cell_type": "code",
   "execution_count": 9,
   "metadata": {},
   "outputs": [
    {
     "data": {
      "text/html": [
       "<div>\n",
       "<style scoped>\n",
       "    .dataframe tbody tr th:only-of-type {\n",
       "        vertical-align: middle;\n",
       "    }\n",
       "\n",
       "    .dataframe tbody tr th {\n",
       "        vertical-align: top;\n",
       "    }\n",
       "\n",
       "    .dataframe thead th {\n",
       "        text-align: right;\n",
       "    }\n",
       "</style>\n",
       "<table border=\"1\" class=\"dataframe\">\n",
       "  <thead>\n",
       "    <tr style=\"text-align: right;\">\n",
       "      <th></th>\n",
       "      <th>price</th>\n",
       "      <th>bed</th>\n",
       "      <th>bath</th>\n",
       "      <th>house_size</th>\n",
       "      <th>city_enc</th>\n",
       "      <th>zip_enc</th>\n",
       "      <th>state_Puerto Rico</th>\n",
       "      <th>state_Massachusetts</th>\n",
       "      <th>state_Connecticut</th>\n",
       "      <th>state_New Jersey</th>\n",
       "      <th>state_New York</th>\n",
       "      <th>state_New Hampshire</th>\n",
       "      <th>state_Vermont</th>\n",
       "      <th>state_Rhode Island</th>\n",
       "      <th>state_Wyoming</th>\n",
       "      <th>state_Maine</th>\n",
       "      <th>state_Georgia</th>\n",
       "      <th>state_Pennsylvania</th>\n",
       "      <th>state_Delaware</th>\n",
       "    </tr>\n",
       "  </thead>\n",
       "  <tbody>\n",
       "    <tr>\n",
       "      <th>0</th>\n",
       "      <td>105000.0</td>\n",
       "      <td>3.0</td>\n",
       "      <td>2.0</td>\n",
       "      <td>920.0</td>\n",
       "      <td>280247.482950</td>\n",
       "      <td>280247.482950</td>\n",
       "      <td>1</td>\n",
       "      <td>0</td>\n",
       "      <td>0</td>\n",
       "      <td>0</td>\n",
       "      <td>0</td>\n",
       "      <td>0</td>\n",
       "      <td>0</td>\n",
       "      <td>0</td>\n",
       "      <td>0</td>\n",
       "      <td>0</td>\n",
       "      <td>0</td>\n",
       "      <td>0</td>\n",
       "      <td>0</td>\n",
       "    </tr>\n",
       "    <tr>\n",
       "      <th>1</th>\n",
       "      <td>80000.0</td>\n",
       "      <td>4.0</td>\n",
       "      <td>2.0</td>\n",
       "      <td>1527.0</td>\n",
       "      <td>280247.482950</td>\n",
       "      <td>280247.482950</td>\n",
       "      <td>1</td>\n",
       "      <td>0</td>\n",
       "      <td>0</td>\n",
       "      <td>0</td>\n",
       "      <td>0</td>\n",
       "      <td>0</td>\n",
       "      <td>0</td>\n",
       "      <td>0</td>\n",
       "      <td>0</td>\n",
       "      <td>0</td>\n",
       "      <td>0</td>\n",
       "      <td>0</td>\n",
       "      <td>0</td>\n",
       "    </tr>\n",
       "    <tr>\n",
       "      <th>2</th>\n",
       "      <td>67000.0</td>\n",
       "      <td>2.0</td>\n",
       "      <td>1.0</td>\n",
       "      <td>748.0</td>\n",
       "      <td>114611.845711</td>\n",
       "      <td>113752.971131</td>\n",
       "      <td>1</td>\n",
       "      <td>0</td>\n",
       "      <td>0</td>\n",
       "      <td>0</td>\n",
       "      <td>0</td>\n",
       "      <td>0</td>\n",
       "      <td>0</td>\n",
       "      <td>0</td>\n",
       "      <td>0</td>\n",
       "      <td>0</td>\n",
       "      <td>0</td>\n",
       "      <td>0</td>\n",
       "      <td>0</td>\n",
       "    </tr>\n",
       "    <tr>\n",
       "      <th>3</th>\n",
       "      <td>145000.0</td>\n",
       "      <td>4.0</td>\n",
       "      <td>2.0</td>\n",
       "      <td>1800.0</td>\n",
       "      <td>199673.107143</td>\n",
       "      <td>168305.581318</td>\n",
       "      <td>1</td>\n",
       "      <td>0</td>\n",
       "      <td>0</td>\n",
       "      <td>0</td>\n",
       "      <td>0</td>\n",
       "      <td>0</td>\n",
       "      <td>0</td>\n",
       "      <td>0</td>\n",
       "      <td>0</td>\n",
       "      <td>0</td>\n",
       "      <td>0</td>\n",
       "      <td>0</td>\n",
       "      <td>0</td>\n",
       "    </tr>\n",
       "    <tr>\n",
       "      <th>5</th>\n",
       "      <td>179000.0</td>\n",
       "      <td>4.0</td>\n",
       "      <td>3.0</td>\n",
       "      <td>2520.0</td>\n",
       "      <td>196619.034149</td>\n",
       "      <td>144958.974359</td>\n",
       "      <td>1</td>\n",
       "      <td>0</td>\n",
       "      <td>0</td>\n",
       "      <td>0</td>\n",
       "      <td>0</td>\n",
       "      <td>0</td>\n",
       "      <td>0</td>\n",
       "      <td>0</td>\n",
       "      <td>0</td>\n",
       "      <td>0</td>\n",
       "      <td>0</td>\n",
       "      <td>0</td>\n",
       "      <td>0</td>\n",
       "    </tr>\n",
       "  </tbody>\n",
       "</table>\n",
       "</div>"
      ],
      "text/plain": [
       "      price  bed  bath  house_size       city_enc        zip_enc  \\\n",
       "0  105000.0  3.0   2.0       920.0  280247.482950  280247.482950   \n",
       "1   80000.0  4.0   2.0      1527.0  280247.482950  280247.482950   \n",
       "2   67000.0  2.0   1.0       748.0  114611.845711  113752.971131   \n",
       "3  145000.0  4.0   2.0      1800.0  199673.107143  168305.581318   \n",
       "5  179000.0  4.0   3.0      2520.0  196619.034149  144958.974359   \n",
       "\n",
       "   state_Puerto Rico  state_Massachusetts  state_Connecticut  \\\n",
       "0                  1                    0                  0   \n",
       "1                  1                    0                  0   \n",
       "2                  1                    0                  0   \n",
       "3                  1                    0                  0   \n",
       "5                  1                    0                  0   \n",
       "\n",
       "   state_New Jersey  state_New York  state_New Hampshire  state_Vermont  \\\n",
       "0                 0               0                    0              0   \n",
       "1                 0               0                    0              0   \n",
       "2                 0               0                    0              0   \n",
       "3                 0               0                    0              0   \n",
       "5                 0               0                    0              0   \n",
       "\n",
       "   state_Rhode Island  state_Wyoming  state_Maine  state_Georgia  \\\n",
       "0                   0              0            0              0   \n",
       "1                   0              0            0              0   \n",
       "2                   0              0            0              0   \n",
       "3                   0              0            0              0   \n",
       "5                   0              0            0              0   \n",
       "\n",
       "   state_Pennsylvania  state_Delaware  \n",
       "0                   0               0  \n",
       "1                   0               0  \n",
       "2                   0               0  \n",
       "3                   0               0  \n",
       "5                   0               0  "
      ]
     },
     "execution_count": 9,
     "metadata": {},
     "output_type": "execute_result"
    }
   ],
   "source": [
    "data = pd.read_csv('data_cleaned.csv',index_col=0)\n",
    "data.head()"
   ]
  },
  {
   "cell_type": "code",
   "execution_count": 10,
   "metadata": {},
   "outputs": [],
   "source": [
    "y = np.array(data['price'])\n",
    "X = data.drop('price', axis=1)\n",
    "X_list = list(X.columns)\n",
    "X = np.array(X)"
   ]
  },
  {
   "cell_type": "code",
   "execution_count": 12,
   "metadata": {},
   "outputs": [],
   "source": [
    "X_train, X_test, y_train, y_test= train_test_split(X, y, test_size = 0.2, random_state = 42)"
   ]
  },
  {
   "cell_type": "code",
   "execution_count": 9,
   "metadata": {},
   "outputs": [],
   "source": [
    "# tune hyperparameters\n",
    "n_estimators = [100, 200, 300, 500, 800]\n",
    "max_features = ['auto', 'sqrt']\n",
    "max_depth = [int(x) for x in np.linspace(5, 100, num = 5)]\n",
    "max_depth.append(None)\n",
    "min_samples_split = [2, 5, 10]\n",
    "min_samples_leaf = [1, 2, 4]\n",
    "bootstrap = [True, False]\n",
    "random_grid = {'n_estimators': n_estimators,\n",
    "               'max_features': max_features,\n",
    "               'max_depth': max_depth,\n",
    "               'min_samples_split': min_samples_split,\n",
    "               'min_samples_leaf': min_samples_leaf,\n",
    "               'bootstrap': bootstrap}"
   ]
  },
  {
   "cell_type": "code",
   "execution_count": 14,
   "metadata": {},
   "outputs": [
    {
     "name": "stdout",
     "output_type": "stream",
     "text": [
      "Fitting 3 folds for each of 20 candidates, totalling 60 fits\n"
     ]
    },
    {
     "data": {
      "text/plain": [
       "RandomizedSearchCV(cv=3, estimator=RandomForestRegressor(), n_iter=20,\n",
       "                   n_jobs=-1,\n",
       "                   param_distributions={'bootstrap': [True, False],\n",
       "                                        'max_depth': [5, 28, 52, 76, 100, None],\n",
       "                                        'max_features': ['auto', 'sqrt'],\n",
       "                                        'min_samples_leaf': [1, 2, 4],\n",
       "                                        'min_samples_split': [2, 5, 10],\n",
       "                                        'n_estimators': [100, 200, 300, 500,\n",
       "                                                         800]},\n",
       "                   random_state=42, verbose=2)"
      ]
     },
     "execution_count": 14,
     "metadata": {},
     "output_type": "execute_result"
    }
   ],
   "source": [
    "rf = RandomForestRegressor()\n",
    "rf_random = RandomizedSearchCV(estimator = rf, param_distributions = random_grid, \n",
    "                               n_iter = 20, cv = 3, verbose=2, random_state=42, n_jobs = -1)\n",
    "rf_random.fit(X_train, y_train)"
   ]
  },
  {
   "cell_type": "code",
   "execution_count": 15,
   "metadata": {},
   "outputs": [
    {
     "data": {
      "text/plain": [
       "{'n_estimators': 500,\n",
       " 'min_samples_split': 2,\n",
       " 'min_samples_leaf': 2,\n",
       " 'max_features': 'sqrt',\n",
       " 'max_depth': 100,\n",
       " 'bootstrap': True}"
      ]
     },
     "execution_count": 15,
     "metadata": {},
     "output_type": "execute_result"
    }
   ],
   "source": [
    "rf_random.best_params_"
   ]
  },
  {
   "cell_type": "code",
   "execution_count": 18,
   "metadata": {},
   "outputs": [
    {
     "name": "stdout",
     "output_type": "stream",
     "text": [
      "R^2 :  0.838542\n"
     ]
    }
   ],
   "source": [
    "y_pred = rf_random.predict(X_test)\n",
    "r2 = r2_score(y_test, y_pred)\n",
    "print(\"R^2 : % f\" %(r2))"
   ]
  },
  {
   "cell_type": "code",
   "execution_count": 23,
   "metadata": {},
   "outputs": [
    {
     "data": {
      "text/plain": [
       "array([4.73930577e-02, 1.33071042e-01, 1.83670818e-01, 2.22503327e-01,\n",
       "       3.51801501e-01, 1.36077107e-03, 4.16825118e-03, 3.76884486e-03,\n",
       "       4.13703837e-03, 4.37965576e-02, 4.58853015e-04, 4.05148827e-04,\n",
       "       7.12242369e-04, 0.00000000e+00, 6.12668755e-04, 2.40152570e-06,\n",
       "       1.94537038e-03, 1.92106368e-04])"
      ]
     },
     "execution_count": 23,
     "metadata": {},
     "output_type": "execute_result"
    }
   ],
   "source": [
    "importance = rf_random.best_estimator_.feature_importances_\n",
    "importance"
   ]
  },
  {
   "cell_type": "code",
   "execution_count": 30,
   "metadata": {},
   "outputs": [
    {
     "data": {
      "image/png": "[encoded data removed]",
      "text/plain": [
       "<Figure size 468x324 with 1 Axes>"
      ]
     },
     "metadata": {
      "needs_background": "light"
     },
     "output_type": "display_data"
    },
    {
     "data": {
      "text/plain": [
       "<Figure size 360x360 with 0 Axes>"
      ]
     },
     "metadata": {},
     "output_type": "display_data"
    }
   ],
   "source": [
    "fig, ax = plt.subplots() \n",
    "width = 0.4 # the width of the bars\n",
    "ind = np.arange(len(importance)) # the x locations for the groups\n",
    "ax.barh(ind, importance, width)\n",
    "ax.set_yticks(ind+width/10)\n",
    "ax.set_yticklabels(X_list, minor=False)\n",
    "plt.title('Feature importance in RandomForest Regressor')\n",
    "plt.xlabel('Relative importance')\n",
    "plt.ylabel('feature') \n",
    "plt.figure(figsize=(5,5))\n",
    "fig.set_size_inches(6.5, 4.5, forward=True)"
   ]
  },
  {
   "cell_type": "code",
   "execution_count": null,
   "metadata": {},
   "outputs": [],
   "source": []
  },
  {
   "cell_type": "code",
   "execution_count": 2,
   "metadata": {},
   "outputs": [
    {
     "data": {
      "text/html": [
       "<div>\n",
       "<style scoped>\n",
       "    .dataframe tbody tr th:only-of-type {\n",
       "        vertical-align: middle;\n",
       "    }\n",
       "\n",
       "    .dataframe tbody tr th {\n",
       "        vertical-align: top;\n",
       "    }\n",
       "\n",
       "    .dataframe thead th {\n",
       "        text-align: right;\n",
       "    }\n",
       "</style>\n",
       "<table border=\"1\" class=\"dataframe\">\n",
       "  <thead>\n",
       "    <tr style=\"text-align: right;\">\n",
       "      <th></th>\n",
       "      <th>price</th>\n",
       "      <th>bed</th>\n",
       "      <th>bath</th>\n",
       "      <th>city</th>\n",
       "      <th>state</th>\n",
       "      <th>house_size</th>\n",
       "      <th>latitude</th>\n",
       "      <th>longitude</th>\n",
       "    </tr>\n",
       "  </thead>\n",
       "  <tbody>\n",
       "    <tr>\n",
       "      <th>0</th>\n",
       "      <td>105000.0</td>\n",
       "      <td>3.0</td>\n",
       "      <td>2.0</td>\n",
       "      <td>Adjuntas</td>\n",
       "      <td>Puerto Rico</td>\n",
       "      <td>920.0</td>\n",
       "      <td>18.1627</td>\n",
       "      <td>-66.7221</td>\n",
       "    </tr>\n",
       "    <tr>\n",
       "      <th>1</th>\n",
       "      <td>80000.0</td>\n",
       "      <td>4.0</td>\n",
       "      <td>2.0</td>\n",
       "      <td>Adjuntas</td>\n",
       "      <td>Puerto Rico</td>\n",
       "      <td>1527.0</td>\n",
       "      <td>18.1627</td>\n",
       "      <td>-66.7221</td>\n",
       "    </tr>\n",
       "    <tr>\n",
       "      <th>2</th>\n",
       "      <td>67000.0</td>\n",
       "      <td>2.0</td>\n",
       "      <td>1.0</td>\n",
       "      <td>Juana Diaz</td>\n",
       "      <td>Puerto Rico</td>\n",
       "      <td>748.0</td>\n",
       "      <td>18.0525</td>\n",
       "      <td>-66.5066</td>\n",
       "    </tr>\n",
       "    <tr>\n",
       "      <th>3</th>\n",
       "      <td>145000.0</td>\n",
       "      <td>4.0</td>\n",
       "      <td>2.0</td>\n",
       "      <td>Ponce</td>\n",
       "      <td>Puerto Rico</td>\n",
       "      <td>1800.0</td>\n",
       "      <td>18.0111</td>\n",
       "      <td>-66.6141</td>\n",
       "    </tr>\n",
       "    <tr>\n",
       "      <th>5</th>\n",
       "      <td>179000.0</td>\n",
       "      <td>4.0</td>\n",
       "      <td>3.0</td>\n",
       "      <td>San Sebastian</td>\n",
       "      <td>Puerto Rico</td>\n",
       "      <td>2520.0</td>\n",
       "      <td>18.4724</td>\n",
       "      <td>-66.7157</td>\n",
       "    </tr>\n",
       "  </tbody>\n",
       "</table>\n",
       "</div>"
      ],
      "text/plain": [
       "      price  bed  bath           city        state  house_size  latitude  \\\n",
       "0  105000.0  3.0   2.0       Adjuntas  Puerto Rico       920.0   18.1627   \n",
       "1   80000.0  4.0   2.0       Adjuntas  Puerto Rico      1527.0   18.1627   \n",
       "2   67000.0  2.0   1.0     Juana Diaz  Puerto Rico       748.0   18.0525   \n",
       "3  145000.0  4.0   2.0          Ponce  Puerto Rico      1800.0   18.0111   \n",
       "5  179000.0  4.0   3.0  San Sebastian  Puerto Rico      2520.0   18.4724   \n",
       "\n",
       "   longitude  \n",
       "0   -66.7221  \n",
       "1   -66.7221  \n",
       "2   -66.5066  \n",
       "3   -66.6141  \n",
       "5   -66.7157  "
      ]
     },
     "execution_count": 2,
     "metadata": {},
     "output_type": "execute_result"
    }
   ],
   "source": [
    "# try using lat and long instead of zipcode\n",
    "data = pd.read_csv('data_long_lat.csv',index_col=0)\n",
    "data.head()"
   ]
  },
  {
   "cell_type": "code",
   "execution_count": 4,
   "metadata": {},
   "outputs": [],
   "source": [
    "# target encoding\n",
    "data[\"city_enc\"] = TargetEncoder().fit_transform(data[\"city\"], data[\"price\"])"
   ]
  },
  {
   "cell_type": "code",
   "execution_count": 5,
   "metadata": {},
   "outputs": [
    {
     "name": "stderr",
     "output_type": "stream",
     "text": [
      "/Library/Frameworks/Python.framework/Versions/3.8/lib/python3.8/site-packages/category_encoders/one_hot.py:145: FutureWarning: iteritems is deprecated and will be removed in a future version. Use .items instead.\n",
      "  for cat_name, class_ in values.iteritems():\n"
     ]
    }
   ],
   "source": [
    "# one hot encoding\n",
    "states_encoded = OneHotEncoder(use_cat_names=True).fit_transform(data[\"state\"])\n",
    "data = pd.concat([data, states_encoded], axis=1)"
   ]
  },
  {
   "cell_type": "code",
   "execution_count": 12,
   "metadata": {},
   "outputs": [],
   "source": [
    "data = data.drop([\"city\",\"state\"], axis=1)"
   ]
  },
  {
   "cell_type": "code",
   "execution_count": 13,
   "metadata": {},
   "outputs": [
    {
     "data": {
      "text/html": [
       "<div>\n",
       "<style scoped>\n",
       "    .dataframe tbody tr th:only-of-type {\n",
       "        vertical-align: middle;\n",
       "    }\n",
       "\n",
       "    .dataframe tbody tr th {\n",
       "        vertical-align: top;\n",
       "    }\n",
       "\n",
       "    .dataframe thead th {\n",
       "        text-align: right;\n",
       "    }\n",
       "</style>\n",
       "<table border=\"1\" class=\"dataframe\">\n",
       "  <thead>\n",
       "    <tr style=\"text-align: right;\">\n",
       "      <th></th>\n",
       "      <th>price</th>\n",
       "      <th>bed</th>\n",
       "      <th>bath</th>\n",
       "      <th>house_size</th>\n",
       "      <th>latitude</th>\n",
       "      <th>longitude</th>\n",
       "      <th>city_enc</th>\n",
       "      <th>state_Puerto Rico</th>\n",
       "      <th>state_Massachusetts</th>\n",
       "      <th>state_Connecticut</th>\n",
       "      <th>state_New Jersey</th>\n",
       "      <th>state_New York</th>\n",
       "      <th>state_New Hampshire</th>\n",
       "      <th>state_Vermont</th>\n",
       "      <th>state_Rhode Island</th>\n",
       "      <th>state_Wyoming</th>\n",
       "      <th>state_Maine</th>\n",
       "      <th>state_Georgia</th>\n",
       "      <th>state_Pennsylvania</th>\n",
       "      <th>state_Delaware</th>\n",
       "    </tr>\n",
       "  </thead>\n",
       "  <tbody>\n",
       "    <tr>\n",
       "      <th>0</th>\n",
       "      <td>105000.0</td>\n",
       "      <td>3.0</td>\n",
       "      <td>2.0</td>\n",
       "      <td>920.0</td>\n",
       "      <td>18.1627</td>\n",
       "      <td>-66.7221</td>\n",
       "      <td>280272.391358</td>\n",
       "      <td>1</td>\n",
       "      <td>0</td>\n",
       "      <td>0</td>\n",
       "      <td>0</td>\n",
       "      <td>0</td>\n",
       "      <td>0</td>\n",
       "      <td>0</td>\n",
       "      <td>0</td>\n",
       "      <td>0</td>\n",
       "      <td>0</td>\n",
       "      <td>0</td>\n",
       "      <td>0</td>\n",
       "      <td>0</td>\n",
       "    </tr>\n",
       "    <tr>\n",
       "      <th>1</th>\n",
       "      <td>80000.0</td>\n",
       "      <td>4.0</td>\n",
       "      <td>2.0</td>\n",
       "      <td>1527.0</td>\n",
       "      <td>18.1627</td>\n",
       "      <td>-66.7221</td>\n",
       "      <td>280272.391358</td>\n",
       "      <td>1</td>\n",
       "      <td>0</td>\n",
       "      <td>0</td>\n",
       "      <td>0</td>\n",
       "      <td>0</td>\n",
       "      <td>0</td>\n",
       "      <td>0</td>\n",
       "      <td>0</td>\n",
       "      <td>0</td>\n",
       "      <td>0</td>\n",
       "      <td>0</td>\n",
       "      <td>0</td>\n",
       "      <td>0</td>\n",
       "    </tr>\n",
       "    <tr>\n",
       "      <th>2</th>\n",
       "      <td>67000.0</td>\n",
       "      <td>2.0</td>\n",
       "      <td>1.0</td>\n",
       "      <td>748.0</td>\n",
       "      <td>18.0525</td>\n",
       "      <td>-66.5066</td>\n",
       "      <td>114611.846280</td>\n",
       "      <td>1</td>\n",
       "      <td>0</td>\n",
       "      <td>0</td>\n",
       "      <td>0</td>\n",
       "      <td>0</td>\n",
       "      <td>0</td>\n",
       "      <td>0</td>\n",
       "      <td>0</td>\n",
       "      <td>0</td>\n",
       "      <td>0</td>\n",
       "      <td>0</td>\n",
       "      <td>0</td>\n",
       "      <td>0</td>\n",
       "    </tr>\n",
       "    <tr>\n",
       "      <th>3</th>\n",
       "      <td>145000.0</td>\n",
       "      <td>4.0</td>\n",
       "      <td>2.0</td>\n",
       "      <td>1800.0</td>\n",
       "      <td>18.0111</td>\n",
       "      <td>-66.6141</td>\n",
       "      <td>199673.107143</td>\n",
       "      <td>1</td>\n",
       "      <td>0</td>\n",
       "      <td>0</td>\n",
       "      <td>0</td>\n",
       "      <td>0</td>\n",
       "      <td>0</td>\n",
       "      <td>0</td>\n",
       "      <td>0</td>\n",
       "      <td>0</td>\n",
       "      <td>0</td>\n",
       "      <td>0</td>\n",
       "      <td>0</td>\n",
       "      <td>0</td>\n",
       "    </tr>\n",
       "    <tr>\n",
       "      <th>5</th>\n",
       "      <td>179000.0</td>\n",
       "      <td>4.0</td>\n",
       "      <td>3.0</td>\n",
       "      <td>2520.0</td>\n",
       "      <td>18.4724</td>\n",
       "      <td>-66.7157</td>\n",
       "      <td>196619.034718</td>\n",
       "      <td>1</td>\n",
       "      <td>0</td>\n",
       "      <td>0</td>\n",
       "      <td>0</td>\n",
       "      <td>0</td>\n",
       "      <td>0</td>\n",
       "      <td>0</td>\n",
       "      <td>0</td>\n",
       "      <td>0</td>\n",
       "      <td>0</td>\n",
       "      <td>0</td>\n",
       "      <td>0</td>\n",
       "      <td>0</td>\n",
       "    </tr>\n",
       "  </tbody>\n",
       "</table>\n",
       "</div>"
      ],
      "text/plain": [
       "      price  bed  bath  house_size  latitude  longitude       city_enc  \\\n",
       "0  105000.0  3.0   2.0       920.0   18.1627   -66.7221  280272.391358   \n",
       "1   80000.0  4.0   2.0      1527.0   18.1627   -66.7221  280272.391358   \n",
       "2   67000.0  2.0   1.0       748.0   18.0525   -66.5066  114611.846280   \n",
       "3  145000.0  4.0   2.0      1800.0   18.0111   -66.6141  199673.107143   \n",
       "5  179000.0  4.0   3.0      2520.0   18.4724   -66.7157  196619.034718   \n",
       "\n",
       "   state_Puerto Rico  state_Massachusetts  state_Connecticut  \\\n",
       "0                  1                    0                  0   \n",
       "1                  1                    0                  0   \n",
       "2                  1                    0                  0   \n",
       "3                  1                    0                  0   \n",
       "5                  1                    0                  0   \n",
       "\n",
       "   state_New Jersey  state_New York  state_New Hampshire  state_Vermont  \\\n",
       "0                 0               0                    0              0   \n",
       "1                 0               0                    0              0   \n",
       "2                 0               0                    0              0   \n",
       "3                 0               0                    0              0   \n",
       "5                 0               0                    0              0   \n",
       "\n",
       "   state_Rhode Island  state_Wyoming  state_Maine  state_Georgia  \\\n",
       "0                   0              0            0              0   \n",
       "1                   0              0            0              0   \n",
       "2                   0              0            0              0   \n",
       "3                   0              0            0              0   \n",
       "5                   0              0            0              0   \n",
       "\n",
       "   state_Pennsylvania  state_Delaware  \n",
       "0                   0               0  \n",
       "1                   0               0  \n",
       "2                   0               0  \n",
       "3                   0               0  \n",
       "5                   0               0  "
      ]
     },
     "execution_count": 13,
     "metadata": {},
     "output_type": "execute_result"
    }
   ],
   "source": [
    "data.head()"
   ]
  },
  {
   "cell_type": "code",
   "execution_count": 14,
   "metadata": {},
   "outputs": [],
   "source": [
    "y = np.array(data['price'])\n",
    "X = data.drop('price', axis=1)\n",
    "X_list = list(X.columns)\n",
    "X = np.array(X)"
   ]
  },
  {
   "cell_type": "code",
   "execution_count": 15,
   "metadata": {},
   "outputs": [],
   "source": [
    "X_train, X_test, y_train, y_test= train_test_split(X, y, test_size = 0.2, random_state = 42)"
   ]
  },
  {
   "cell_type": "code",
   "execution_count": 16,
   "metadata": {},
   "outputs": [
    {
     "name": "stdout",
     "output_type": "stream",
     "text": [
      "Fitting 3 folds for each of 20 candidates, totalling 60 fits\n"
     ]
    },
    {
     "data": {
      "text/plain": [
       "RandomizedSearchCV(cv=3, estimator=RandomForestRegressor(), n_iter=20,\n",
       "                   n_jobs=-1,\n",
       "                   param_distributions={'bootstrap': [True, False],\n",
       "                                        'max_depth': [5, 28, 52, 76, 100, None],\n",
       "                                        'max_features': ['auto', 'sqrt'],\n",
       "                                        'min_samples_leaf': [1, 2, 4],\n",
       "                                        'min_samples_split': [2, 5, 10],\n",
       "                                        'n_estimators': [100, 200, 300, 500,\n",
       "                                                         800]},\n",
       "                   random_state=42, verbose=2)"
      ]
     },
     "execution_count": 16,
     "metadata": {},
     "output_type": "execute_result"
    }
   ],
   "source": [
    "rf = RandomForestRegressor()\n",
    "rf_random = RandomizedSearchCV(estimator = rf, param_distributions = random_grid, \n",
    "                               n_iter = 20, cv = 3, verbose=2, random_state=42, n_jobs = -1)\n",
    "rf_random.fit(X_train, y_train)"
   ]
  },
  {
   "cell_type": "code",
   "execution_count": 17,
   "metadata": {},
   "outputs": [
    {
     "data": {
      "text/plain": [
       "{'n_estimators': 500,\n",
       " 'min_samples_split': 10,\n",
       " 'min_samples_leaf': 1,\n",
       " 'max_features': 'sqrt',\n",
       " 'max_depth': None,\n",
       " 'bootstrap': False}"
      ]
     },
     "execution_count": 17,
     "metadata": {},
     "output_type": "execute_result"
    }
   ],
   "source": [
    "rf_random.best_params_"
   ]
  },
  {
   "cell_type": "code",
   "execution_count": 18,
   "metadata": {},
   "outputs": [
    {
     "name": "stdout",
     "output_type": "stream",
     "text": [
      "R^2 :  0.827212\n"
     ]
    }
   ],
   "source": [
    "y_pred = rf_random.predict(X_test)\n",
    "r2 = r2_score(y_test, y_pred)\n",
    "print(\"R^2 : % f\" %(r2))"
   ]
  },
  {
   "cell_type": "code",
   "execution_count": null,
   "metadata": {},
   "outputs": [],
   "source": []
  },
  {
   "cell_type": "code",
   "execution_count": null,
   "metadata": {},
   "outputs": [],
   "source": []
  },
  {
   "cell_type": "code",
   "execution_count": 161,
   "metadata": {},
   "outputs": [
    {
     "data": {
      "text/html": [
       "<div>\n",
       "<style scoped>\n",
       "    .dataframe tbody tr th:only-of-type {\n",
       "        vertical-align: middle;\n",
       "    }\n",
       "\n",
       "    .dataframe tbody tr th {\n",
       "        vertical-align: top;\n",
       "    }\n",
       "\n",
       "    .dataframe thead th {\n",
       "        text-align: right;\n",
       "    }\n",
       "</style>\n",
       "<table border=\"1\" class=\"dataframe\">\n",
       "  <thead>\n",
       "    <tr style=\"text-align: right;\">\n",
       "      <th></th>\n",
       "      <th>status</th>\n",
       "      <th>price</th>\n",
       "      <th>bed</th>\n",
       "      <th>bath</th>\n",
       "      <th>acre_lot</th>\n",
       "      <th>full_address</th>\n",
       "      <th>street</th>\n",
       "      <th>city</th>\n",
       "      <th>state</th>\n",
       "      <th>zip_code</th>\n",
       "      <th>house_size</th>\n",
       "      <th>sold_date</th>\n",
       "    </tr>\n",
       "  </thead>\n",
       "  <tbody>\n",
       "    <tr>\n",
       "      <th>0</th>\n",
       "      <td>for_sale</td>\n",
       "      <td>105000.0</td>\n",
       "      <td>3.0</td>\n",
       "      <td>2.0</td>\n",
       "      <td>0.12</td>\n",
       "      <td>Sector Yahuecas Titulo # V84, Adjuntas, PR, 00601</td>\n",
       "      <td>Sector Yahuecas Titulo # V84</td>\n",
       "      <td>Adjuntas</td>\n",
       "      <td>Puerto Rico</td>\n",
       "      <td>601.0</td>\n",
       "      <td>920.0</td>\n",
       "      <td>NaN</td>\n",
       "    </tr>\n",
       "    <tr>\n",
       "      <th>1</th>\n",
       "      <td>for_sale</td>\n",
       "      <td>80000.0</td>\n",
       "      <td>4.0</td>\n",
       "      <td>2.0</td>\n",
       "      <td>0.08</td>\n",
       "      <td>Km 78 9 Carr # 135, Adjuntas, PR, 00601</td>\n",
       "      <td>Km 78 9 Carr # 135</td>\n",
       "      <td>Adjuntas</td>\n",
       "      <td>Puerto Rico</td>\n",
       "      <td>601.0</td>\n",
       "      <td>1527.0</td>\n",
       "      <td>NaN</td>\n",
       "    </tr>\n",
       "    <tr>\n",
       "      <th>2</th>\n",
       "      <td>for_sale</td>\n",
       "      <td>67000.0</td>\n",
       "      <td>2.0</td>\n",
       "      <td>1.0</td>\n",
       "      <td>0.15</td>\n",
       "      <td>556G 556-G 16 St, Juana Diaz, PR, 00795</td>\n",
       "      <td>556G 556-G 16 St</td>\n",
       "      <td>Juana Diaz</td>\n",
       "      <td>Puerto Rico</td>\n",
       "      <td>795.0</td>\n",
       "      <td>748.0</td>\n",
       "      <td>NaN</td>\n",
       "    </tr>\n",
       "    <tr>\n",
       "      <th>3</th>\n",
       "      <td>for_sale</td>\n",
       "      <td>145000.0</td>\n",
       "      <td>4.0</td>\n",
       "      <td>2.0</td>\n",
       "      <td>0.10</td>\n",
       "      <td>R5 Comunidad El Paraso Calle De Oro R-5 Ponce,...</td>\n",
       "      <td>R5 Comunidad El Paraso Calle De Oro R-5 Ponce</td>\n",
       "      <td>Ponce</td>\n",
       "      <td>Puerto Rico</td>\n",
       "      <td>731.0</td>\n",
       "      <td>1800.0</td>\n",
       "      <td>NaN</td>\n",
       "    </tr>\n",
       "    <tr>\n",
       "      <th>4</th>\n",
       "      <td>for_sale</td>\n",
       "      <td>65000.0</td>\n",
       "      <td>6.0</td>\n",
       "      <td>2.0</td>\n",
       "      <td>0.05</td>\n",
       "      <td>14 Navarro, Mayaguez, PR, 00680</td>\n",
       "      <td>14 Navarro</td>\n",
       "      <td>Mayaguez</td>\n",
       "      <td>Puerto Rico</td>\n",
       "      <td>680.0</td>\n",
       "      <td>NaN</td>\n",
       "      <td>NaN</td>\n",
       "    </tr>\n",
       "  </tbody>\n",
       "</table>\n",
       "</div>"
      ],
      "text/plain": [
       "     status     price  bed  bath  acre_lot  \\\n",
       "0  for_sale  105000.0  3.0   2.0      0.12   \n",
       "1  for_sale   80000.0  4.0   2.0      0.08   \n",
       "2  for_sale   67000.0  2.0   1.0      0.15   \n",
       "3  for_sale  145000.0  4.0   2.0      0.10   \n",
       "4  for_sale   65000.0  6.0   2.0      0.05   \n",
       "\n",
       "                                        full_address  \\\n",
       "0  Sector Yahuecas Titulo # V84, Adjuntas, PR, 00601   \n",
       "1            Km 78 9 Carr # 135, Adjuntas, PR, 00601   \n",
       "2            556G 556-G 16 St, Juana Diaz, PR, 00795   \n",
       "3  R5 Comunidad El Paraso Calle De Oro R-5 Ponce,...   \n",
       "4                    14 Navarro, Mayaguez, PR, 00680   \n",
       "\n",
       "                                          street        city        state  \\\n",
       "0                   Sector Yahuecas Titulo # V84    Adjuntas  Puerto Rico   \n",
       "1                             Km 78 9 Carr # 135    Adjuntas  Puerto Rico   \n",
       "2                               556G 556-G 16 St  Juana Diaz  Puerto Rico   \n",
       "3  R5 Comunidad El Paraso Calle De Oro R-5 Ponce       Ponce  Puerto Rico   \n",
       "4                                     14 Navarro    Mayaguez  Puerto Rico   \n",
       "\n",
       "   zip_code  house_size sold_date  \n",
       "0     601.0       920.0       NaN  \n",
       "1     601.0      1527.0       NaN  \n",
       "2     795.0       748.0       NaN  \n",
       "3     731.0      1800.0       NaN  \n",
       "4     680.0         NaN       NaN  "
      ]
     },
     "execution_count": 161,
     "metadata": {},
     "output_type": "execute_result"
    }
   ],
   "source": [
    "# try with new york and new jersey data\n",
    "data = pd.read_csv('realtor-data.csv')\n",
    "data.head()"
   ]
  },
  {
   "cell_type": "code",
   "execution_count": 162,
   "metadata": {},
   "outputs": [],
   "source": [
    "# drop duplicate values\n",
    "data.drop_duplicates(inplace=True)\n",
    "# drop columns that won't be used\n",
    "data = data.drop([\"status\", \"acre_lot\", \"full_address\", \"street\", \"sold_date\"], axis=1)\n",
    "# drop missing values\n",
    "data.dropna(how='any', inplace=True)"
   ]
  },
  {
   "cell_type": "code",
   "execution_count": 163,
   "metadata": {},
   "outputs": [
    {
     "data": {
      "text/html": [
       "<div>\n",
       "<style scoped>\n",
       "    .dataframe tbody tr th:only-of-type {\n",
       "        vertical-align: middle;\n",
       "    }\n",
       "\n",
       "    .dataframe tbody tr th {\n",
       "        vertical-align: top;\n",
       "    }\n",
       "\n",
       "    .dataframe thead th {\n",
       "        text-align: right;\n",
       "    }\n",
       "</style>\n",
       "<table border=\"1\" class=\"dataframe\">\n",
       "  <thead>\n",
       "    <tr style=\"text-align: right;\">\n",
       "      <th></th>\n",
       "      <th>price</th>\n",
       "      <th>bed</th>\n",
       "      <th>bath</th>\n",
       "      <th>city</th>\n",
       "      <th>state</th>\n",
       "      <th>zip_code</th>\n",
       "      <th>house_size</th>\n",
       "    </tr>\n",
       "  </thead>\n",
       "  <tbody>\n",
       "    <tr>\n",
       "      <th>30149</th>\n",
       "      <td>175000.0</td>\n",
       "      <td>3.0</td>\n",
       "      <td>1.0</td>\n",
       "      <td>Berlin</td>\n",
       "      <td>New York</td>\n",
       "      <td>12022.0</td>\n",
       "      <td>1176.0</td>\n",
       "    </tr>\n",
       "    <tr>\n",
       "      <th>54248</th>\n",
       "      <td>425000.0</td>\n",
       "      <td>3.0</td>\n",
       "      <td>2.0</td>\n",
       "      <td>Claverack</td>\n",
       "      <td>New York</td>\n",
       "      <td>12521.0</td>\n",
       "      <td>1600.0</td>\n",
       "    </tr>\n",
       "    <tr>\n",
       "      <th>54258</th>\n",
       "      <td>225000.0</td>\n",
       "      <td>4.0</td>\n",
       "      <td>2.0</td>\n",
       "      <td>Copake</td>\n",
       "      <td>New York</td>\n",
       "      <td>12521.0</td>\n",
       "      <td>1239.0</td>\n",
       "    </tr>\n",
       "    <tr>\n",
       "      <th>54259</th>\n",
       "      <td>419000.0</td>\n",
       "      <td>3.0</td>\n",
       "      <td>3.0</td>\n",
       "      <td>Copake</td>\n",
       "      <td>New York</td>\n",
       "      <td>12516.0</td>\n",
       "      <td>1800.0</td>\n",
       "    </tr>\n",
       "    <tr>\n",
       "      <th>54262</th>\n",
       "      <td>365000.0</td>\n",
       "      <td>3.0</td>\n",
       "      <td>2.0</td>\n",
       "      <td>Copake</td>\n",
       "      <td>New York</td>\n",
       "      <td>12517.0</td>\n",
       "      <td>1482.0</td>\n",
       "    </tr>\n",
       "  </tbody>\n",
       "</table>\n",
       "</div>"
      ],
      "text/plain": [
       "          price  bed  bath       city     state  zip_code  house_size\n",
       "30149  175000.0  3.0   1.0     Berlin  New York   12022.0      1176.0\n",
       "54248  425000.0  3.0   2.0  Claverack  New York   12521.0      1600.0\n",
       "54258  225000.0  4.0   2.0     Copake  New York   12521.0      1239.0\n",
       "54259  419000.0  3.0   3.0     Copake  New York   12516.0      1800.0\n",
       "54262  365000.0  3.0   2.0     Copake  New York   12517.0      1482.0"
      ]
     },
     "execution_count": 163,
     "metadata": {},
     "output_type": "execute_result"
    }
   ],
   "source": [
    "ny = data[data.state=='New York']\n",
    "nj = data[data.state=='New Jersey']\n",
    "data = pd.concat([ny, nj])\n",
    "data.head()"
   ]
  },
  {
   "cell_type": "code",
   "execution_count": 164,
   "metadata": {},
   "outputs": [
    {
     "data": {
      "text/plain": [
       "(32291, 7)"
      ]
     },
     "execution_count": 164,
     "metadata": {},
     "output_type": "execute_result"
    }
   ],
   "source": [
    "# remove outlier (greater than 3 standard deviations)\n",
    "data = data[np.abs(stats.zscore(data['price'])) < 3]\n",
    "data = data[np.abs(stats.zscore(data['bed'])) < 3]\n",
    "data = data[np.abs(stats.zscore(data['bath'])) < 3]\n",
    "data = data[np.abs(stats.zscore(data['house_size'])) < 3]\n",
    "data.shape"
   ]
  },
  {
   "cell_type": "code",
   "execution_count": 165,
   "metadata": {},
   "outputs": [],
   "source": [
    "data = data.replace('New York City','New York')"
   ]
  },
  {
   "cell_type": "code",
   "execution_count": 166,
   "metadata": {},
   "outputs": [],
   "source": [
    "data[\"zip_code\"] = data[\"zip_code\"].apply(str)"
   ]
  },
  {
   "cell_type": "code",
   "execution_count": 167,
   "metadata": {},
   "outputs": [
    {
     "name": "stderr",
     "output_type": "stream",
     "text": [
      "/Library/Frameworks/Python.framework/Versions/3.8/lib/python3.8/site-packages/category_encoders/target_encoder.py:122: FutureWarning: Default parameter min_samples_leaf will change in version 2.6.See https://github.com/scikit-learn-contrib/category_encoders/issues/327\n",
      "  warnings.warn(\"Default parameter min_samples_leaf will change in version 2.6.\"\n",
      "/Library/Frameworks/Python.framework/Versions/3.8/lib/python3.8/site-packages/category_encoders/target_encoder.py:127: FutureWarning: Default parameter smoothing will change in version 2.6.See https://github.com/scikit-learn-contrib/category_encoders/issues/327\n",
      "  warnings.warn(\"Default parameter smoothing will change in version 2.6.\"\n",
      "/Library/Frameworks/Python.framework/Versions/3.8/lib/python3.8/site-packages/category_encoders/target_encoder.py:122: FutureWarning: Default parameter min_samples_leaf will change in version 2.6.See https://github.com/scikit-learn-contrib/category_encoders/issues/327\n",
      "  warnings.warn(\"Default parameter min_samples_leaf will change in version 2.6.\"\n",
      "/Library/Frameworks/Python.framework/Versions/3.8/lib/python3.8/site-packages/category_encoders/target_encoder.py:127: FutureWarning: Default parameter smoothing will change in version 2.6.See https://github.com/scikit-learn-contrib/category_encoders/issues/327\n",
      "  warnings.warn(\"Default parameter smoothing will change in version 2.6.\"\n"
     ]
    }
   ],
   "source": [
    "# target encoding\n",
    "data[\"city_enc\"] = TargetEncoder().fit_transform(data[\"city\"], data[\"price\"])\n",
    "data[\"zip_enc\"] = TargetEncoder().fit_transform(data[\"zip_code\"], data[\"price\"])"
   ]
  },
  {
   "cell_type": "code",
   "execution_count": 168,
   "metadata": {},
   "outputs": [
    {
     "name": "stderr",
     "output_type": "stream",
     "text": [
      "/Library/Frameworks/Python.framework/Versions/3.8/lib/python3.8/site-packages/category_encoders/one_hot.py:145: FutureWarning: iteritems is deprecated and will be removed in a future version. Use .items instead.\n",
      "  for cat_name, class_ in values.iteritems():\n"
     ]
    }
   ],
   "source": [
    "# one hot encoding\n",
    "states_encoded = OneHotEncoder(use_cat_names=True).fit_transform(data[\"state\"])\n",
    "data = pd.concat([data, states_encoded], axis=1)"
   ]
  },
  {
   "cell_type": "code",
   "execution_count": 169,
   "metadata": {},
   "outputs": [
    {
     "data": {
      "text/html": [
       "<div>\n",
       "<style scoped>\n",
       "    .dataframe tbody tr th:only-of-type {\n",
       "        vertical-align: middle;\n",
       "    }\n",
       "\n",
       "    .dataframe tbody tr th {\n",
       "        vertical-align: top;\n",
       "    }\n",
       "\n",
       "    .dataframe thead th {\n",
       "        text-align: right;\n",
       "    }\n",
       "</style>\n",
       "<table border=\"1\" class=\"dataframe\">\n",
       "  <thead>\n",
       "    <tr style=\"text-align: right;\">\n",
       "      <th></th>\n",
       "      <th>price</th>\n",
       "      <th>bed</th>\n",
       "      <th>bath</th>\n",
       "      <th>city</th>\n",
       "      <th>state</th>\n",
       "      <th>zip_code</th>\n",
       "      <th>house_size</th>\n",
       "      <th>city_enc</th>\n",
       "      <th>zip_enc</th>\n",
       "      <th>state_New York</th>\n",
       "      <th>state_New Jersey</th>\n",
       "    </tr>\n",
       "  </thead>\n",
       "  <tbody>\n",
       "    <tr>\n",
       "      <th>30149</th>\n",
       "      <td>175000.0</td>\n",
       "      <td>3.0</td>\n",
       "      <td>1.0</td>\n",
       "      <td>Berlin</td>\n",
       "      <td>New York</td>\n",
       "      <td>12022.0</td>\n",
       "      <td>1176.0</td>\n",
       "      <td>280660.187500</td>\n",
       "      <td>4.490394e+05</td>\n",
       "      <td>1</td>\n",
       "      <td>0</td>\n",
       "    </tr>\n",
       "    <tr>\n",
       "      <th>54248</th>\n",
       "      <td>425000.0</td>\n",
       "      <td>3.0</td>\n",
       "      <td>2.0</td>\n",
       "      <td>Claverack</td>\n",
       "      <td>New York</td>\n",
       "      <td>12521.0</td>\n",
       "      <td>1600.0</td>\n",
       "      <td>444007.828515</td>\n",
       "      <td>1.405033e+06</td>\n",
       "      <td>1</td>\n",
       "      <td>0</td>\n",
       "    </tr>\n",
       "    <tr>\n",
       "      <th>54258</th>\n",
       "      <td>225000.0</td>\n",
       "      <td>4.0</td>\n",
       "      <td>2.0</td>\n",
       "      <td>Copake</td>\n",
       "      <td>New York</td>\n",
       "      <td>12521.0</td>\n",
       "      <td>1239.0</td>\n",
       "      <td>679579.960016</td>\n",
       "      <td>1.405033e+06</td>\n",
       "      <td>1</td>\n",
       "      <td>0</td>\n",
       "    </tr>\n",
       "    <tr>\n",
       "      <th>54259</th>\n",
       "      <td>419000.0</td>\n",
       "      <td>3.0</td>\n",
       "      <td>3.0</td>\n",
       "      <td>Copake</td>\n",
       "      <td>New York</td>\n",
       "      <td>12516.0</td>\n",
       "      <td>1800.0</td>\n",
       "      <td>679579.960016</td>\n",
       "      <td>6.826080e+05</td>\n",
       "      <td>1</td>\n",
       "      <td>0</td>\n",
       "    </tr>\n",
       "    <tr>\n",
       "      <th>54262</th>\n",
       "      <td>365000.0</td>\n",
       "      <td>3.0</td>\n",
       "      <td>2.0</td>\n",
       "      <td>Copake</td>\n",
       "      <td>New York</td>\n",
       "      <td>12517.0</td>\n",
       "      <td>1482.0</td>\n",
       "      <td>679579.960016</td>\n",
       "      <td>5.271485e+05</td>\n",
       "      <td>1</td>\n",
       "      <td>0</td>\n",
       "    </tr>\n",
       "    <tr>\n",
       "      <th>...</th>\n",
       "      <td>...</td>\n",
       "      <td>...</td>\n",
       "      <td>...</td>\n",
       "      <td>...</td>\n",
       "      <td>...</td>\n",
       "      <td>...</td>\n",
       "      <td>...</td>\n",
       "      <td>...</td>\n",
       "      <td>...</td>\n",
       "      <td>...</td>\n",
       "      <td>...</td>\n",
       "    </tr>\n",
       "    <tr>\n",
       "      <th>904198</th>\n",
       "      <td>718000.0</td>\n",
       "      <td>2.0</td>\n",
       "      <td>3.0</td>\n",
       "      <td>Metuchen</td>\n",
       "      <td>New Jersey</td>\n",
       "      <td>8840.0</td>\n",
       "      <td>3300.0</td>\n",
       "      <td>598280.161290</td>\n",
       "      <td>5.570637e+05</td>\n",
       "      <td>0</td>\n",
       "      <td>1</td>\n",
       "    </tr>\n",
       "    <tr>\n",
       "      <th>904201</th>\n",
       "      <td>575000.0</td>\n",
       "      <td>2.0</td>\n",
       "      <td>2.0</td>\n",
       "      <td>New Brunswick</td>\n",
       "      <td>New Jersey</td>\n",
       "      <td>8901.0</td>\n",
       "      <td>1296.0</td>\n",
       "      <td>384935.288889</td>\n",
       "      <td>3.850237e+05</td>\n",
       "      <td>0</td>\n",
       "      <td>1</td>\n",
       "    </tr>\n",
       "    <tr>\n",
       "      <th>904288</th>\n",
       "      <td>494990.0</td>\n",
       "      <td>3.0</td>\n",
       "      <td>3.0</td>\n",
       "      <td>Cliffwood</td>\n",
       "      <td>New Jersey</td>\n",
       "      <td>7721.0</td>\n",
       "      <td>1584.0</td>\n",
       "      <td>467231.889755</td>\n",
       "      <td>4.218195e+05</td>\n",
       "      <td>0</td>\n",
       "      <td>1</td>\n",
       "    </tr>\n",
       "    <tr>\n",
       "      <th>904320</th>\n",
       "      <td>569990.0</td>\n",
       "      <td>3.0</td>\n",
       "      <td>4.0</td>\n",
       "      <td>Cliffwood</td>\n",
       "      <td>New Jersey</td>\n",
       "      <td>7721.0</td>\n",
       "      <td>1917.0</td>\n",
       "      <td>467231.889755</td>\n",
       "      <td>4.218195e+05</td>\n",
       "      <td>0</td>\n",
       "      <td>1</td>\n",
       "    </tr>\n",
       "    <tr>\n",
       "      <th>910168</th>\n",
       "      <td>779999.0</td>\n",
       "      <td>3.0</td>\n",
       "      <td>4.0</td>\n",
       "      <td>Park Ridge</td>\n",
       "      <td>New Jersey</td>\n",
       "      <td>7656.0</td>\n",
       "      <td>2867.0</td>\n",
       "      <td>770233.799060</td>\n",
       "      <td>7.702338e+05</td>\n",
       "      <td>0</td>\n",
       "      <td>1</td>\n",
       "    </tr>\n",
       "  </tbody>\n",
       "</table>\n",
       "<p>32291 rows × 11 columns</p>\n",
       "</div>"
      ],
      "text/plain": [
       "           price  bed  bath           city       state zip_code  house_size  \\\n",
       "30149   175000.0  3.0   1.0         Berlin    New York  12022.0      1176.0   \n",
       "54248   425000.0  3.0   2.0      Claverack    New York  12521.0      1600.0   \n",
       "54258   225000.0  4.0   2.0         Copake    New York  12521.0      1239.0   \n",
       "54259   419000.0  3.0   3.0         Copake    New York  12516.0      1800.0   \n",
       "54262   365000.0  3.0   2.0         Copake    New York  12517.0      1482.0   \n",
       "...          ...  ...   ...            ...         ...      ...         ...   \n",
       "904198  718000.0  2.0   3.0       Metuchen  New Jersey   8840.0      3300.0   \n",
       "904201  575000.0  2.0   2.0  New Brunswick  New Jersey   8901.0      1296.0   \n",
       "904288  494990.0  3.0   3.0      Cliffwood  New Jersey   7721.0      1584.0   \n",
       "904320  569990.0  3.0   4.0      Cliffwood  New Jersey   7721.0      1917.0   \n",
       "910168  779999.0  3.0   4.0     Park Ridge  New Jersey   7656.0      2867.0   \n",
       "\n",
       "             city_enc       zip_enc  state_New York  state_New Jersey  \n",
       "30149   280660.187500  4.490394e+05               1                 0  \n",
       "54248   444007.828515  1.405033e+06               1                 0  \n",
       "54258   679579.960016  1.405033e+06               1                 0  \n",
       "54259   679579.960016  6.826080e+05               1                 0  \n",
       "54262   679579.960016  5.271485e+05               1                 0  \n",
       "...               ...           ...             ...               ...  \n",
       "904198  598280.161290  5.570637e+05               0                 1  \n",
       "904201  384935.288889  3.850237e+05               0                 1  \n",
       "904288  467231.889755  4.218195e+05               0                 1  \n",
       "904320  467231.889755  4.218195e+05               0                 1  \n",
       "910168  770233.799060  7.702338e+05               0                 1  \n",
       "\n",
       "[32291 rows x 11 columns]"
      ]
     },
     "execution_count": 169,
     "metadata": {},
     "output_type": "execute_result"
    }
   ],
   "source": [
    "data"
   ]
  },
  {
   "cell_type": "code",
   "execution_count": 170,
   "metadata": {},
   "outputs": [],
   "source": [
    "# data.to_csv('nynj_data.csv', index=False)"
   ]
  },
  {
   "cell_type": "code",
   "execution_count": 171,
   "metadata": {},
   "outputs": [
    {
     "data": {
      "text/html": [
       "<div>\n",
       "<style scoped>\n",
       "    .dataframe tbody tr th:only-of-type {\n",
       "        vertical-align: middle;\n",
       "    }\n",
       "\n",
       "    .dataframe tbody tr th {\n",
       "        vertical-align: top;\n",
       "    }\n",
       "\n",
       "    .dataframe thead th {\n",
       "        text-align: right;\n",
       "    }\n",
       "</style>\n",
       "<table border=\"1\" class=\"dataframe\">\n",
       "  <thead>\n",
       "    <tr style=\"text-align: right;\">\n",
       "      <th></th>\n",
       "      <th>price</th>\n",
       "      <th>bed</th>\n",
       "      <th>bath</th>\n",
       "      <th>house_size</th>\n",
       "      <th>city_enc</th>\n",
       "      <th>zip_enc</th>\n",
       "      <th>state_New York</th>\n",
       "      <th>state_New Jersey</th>\n",
       "    </tr>\n",
       "  </thead>\n",
       "  <tbody>\n",
       "    <tr>\n",
       "      <th>30149</th>\n",
       "      <td>175000.0</td>\n",
       "      <td>3.0</td>\n",
       "      <td>1.0</td>\n",
       "      <td>1176.0</td>\n",
       "      <td>280660.187500</td>\n",
       "      <td>4.490394e+05</td>\n",
       "      <td>1</td>\n",
       "      <td>0</td>\n",
       "    </tr>\n",
       "    <tr>\n",
       "      <th>54248</th>\n",
       "      <td>425000.0</td>\n",
       "      <td>3.0</td>\n",
       "      <td>2.0</td>\n",
       "      <td>1600.0</td>\n",
       "      <td>444007.828515</td>\n",
       "      <td>1.405033e+06</td>\n",
       "      <td>1</td>\n",
       "      <td>0</td>\n",
       "    </tr>\n",
       "    <tr>\n",
       "      <th>54258</th>\n",
       "      <td>225000.0</td>\n",
       "      <td>4.0</td>\n",
       "      <td>2.0</td>\n",
       "      <td>1239.0</td>\n",
       "      <td>679579.960016</td>\n",
       "      <td>1.405033e+06</td>\n",
       "      <td>1</td>\n",
       "      <td>0</td>\n",
       "    </tr>\n",
       "    <tr>\n",
       "      <th>54259</th>\n",
       "      <td>419000.0</td>\n",
       "      <td>3.0</td>\n",
       "      <td>3.0</td>\n",
       "      <td>1800.0</td>\n",
       "      <td>679579.960016</td>\n",
       "      <td>6.826080e+05</td>\n",
       "      <td>1</td>\n",
       "      <td>0</td>\n",
       "    </tr>\n",
       "    <tr>\n",
       "      <th>54262</th>\n",
       "      <td>365000.0</td>\n",
       "      <td>3.0</td>\n",
       "      <td>2.0</td>\n",
       "      <td>1482.0</td>\n",
       "      <td>679579.960016</td>\n",
       "      <td>5.271485e+05</td>\n",
       "      <td>1</td>\n",
       "      <td>0</td>\n",
       "    </tr>\n",
       "  </tbody>\n",
       "</table>\n",
       "</div>"
      ],
      "text/plain": [
       "          price  bed  bath  house_size       city_enc       zip_enc  \\\n",
       "30149  175000.0  3.0   1.0      1176.0  280660.187500  4.490394e+05   \n",
       "54248  425000.0  3.0   2.0      1600.0  444007.828515  1.405033e+06   \n",
       "54258  225000.0  4.0   2.0      1239.0  679579.960016  1.405033e+06   \n",
       "54259  419000.0  3.0   3.0      1800.0  679579.960016  6.826080e+05   \n",
       "54262  365000.0  3.0   2.0      1482.0  679579.960016  5.271485e+05   \n",
       "\n",
       "       state_New York  state_New Jersey  \n",
       "30149               1                 0  \n",
       "54248               1                 0  \n",
       "54258               1                 0  \n",
       "54259               1                 0  \n",
       "54262               1                 0  "
      ]
     },
     "execution_count": 171,
     "metadata": {},
     "output_type": "execute_result"
    }
   ],
   "source": [
    "nynj = data.drop([\"city\",\"state\",\"zip_code\"], axis=1)\n",
    "nynj.head()"
   ]
  },
  {
   "cell_type": "code",
   "execution_count": 172,
   "metadata": {},
   "outputs": [],
   "source": [
    "y = np.array(nynj['price'])\n",
    "X = nynj.drop('price', axis=1)\n",
    "X_list = list(X.columns)\n",
    "X = np.array(X)\n",
    "X_train, X_test, y_train, y_test= train_test_split(X, y, test_size = 0.2, random_state = 42)"
   ]
  },
  {
   "cell_type": "code",
   "execution_count": 178,
   "metadata": {},
   "outputs": [
    {
     "name": "stdout",
     "output_type": "stream",
     "text": [
      "Fitting 5 folds for each of 20 candidates, totalling 100 fits\n"
     ]
    },
    {
     "data": {
      "text/plain": [
       "RandomizedSearchCV(cv=5, estimator=RandomForestRegressor(), n_iter=20,\n",
       "                   n_jobs=-1,\n",
       "                   param_distributions={'bootstrap': [True, False],\n",
       "                                        'max_depth': [10, 20, None],\n",
       "                                        'max_features': ['auto', 'sqrt'],\n",
       "                                        'min_samples_leaf': [1, 2, 3],\n",
       "                                        'min_samples_split': [2, 3, 4],\n",
       "                                        'n_estimators': [10, 30, 50, 70, 100]},\n",
       "                   random_state=42, verbose=2)"
      ]
     },
     "execution_count": 178,
     "metadata": {},
     "output_type": "execute_result"
    }
   ],
   "source": [
    "rf = RandomForestRegressor()\n",
    "rf_random = RandomizedSearchCV(estimator = rf, param_distributions = random_grid, \n",
    "                               n_iter = 20, cv = 5, verbose=2, random_state=42, n_jobs = -1)\n",
    "rf_random.fit(X_train, y_train)"
   ]
  },
  {
   "cell_type": "code",
   "execution_count": 179,
   "metadata": {},
   "outputs": [
    {
     "data": {
      "text/plain": [
       "{'n_estimators': 100,\n",
       " 'min_samples_split': 2,\n",
       " 'min_samples_leaf': 1,\n",
       " 'max_features': 'sqrt',\n",
       " 'max_depth': None,\n",
       " 'bootstrap': True}"
      ]
     },
     "execution_count": 179,
     "metadata": {},
     "output_type": "execute_result"
    }
   ],
   "source": [
    "rf_random.best_params_"
   ]
  },
  {
   "cell_type": "code",
   "execution_count": 180,
   "metadata": {},
   "outputs": [
    {
     "name": "stdout",
     "output_type": "stream",
     "text": [
      "R^2 :  0.865731\n"
     ]
    }
   ],
   "source": [
    "y_pred = rf_random.predict(X_test)\n",
    "r2 = r2_score(y_test, y_pred)\n",
    "print(\"R^2 : % f\" %(r2))"
   ]
  },
  {
   "cell_type": "code",
   "execution_count": 182,
   "metadata": {},
   "outputs": [],
   "source": [
    "pickle.dump(rf_random, open('rf_model.pkl', 'wb'))"
   ]
  },
  {
   "cell_type": "code",
   "execution_count": 215,
   "metadata": {},
   "outputs": [],
   "source": [
    "test = np.array([1, 1, 800, 2853221.61005784, 2338338.88095238, 1, 0])\n",
    "test2 = np.array([2, 2, 1000, 2853221.61005784, 2338338.88095238, 1, 0])\n",
    "test3 = np.array([2, 2, 1500, 2853221.61005784, 2338338.88095238, 1, 0])"
   ]
  },
  {
   "cell_type": "code",
   "execution_count": 216,
   "metadata": {},
   "outputs": [
    {
     "data": {
      "text/plain": [
       "array([904821.55891156])"
      ]
     },
     "execution_count": 216,
     "metadata": {},
     "output_type": "execute_result"
    }
   ],
   "source": [
    "pickled_model.predict(test.reshape(1,-1))"
   ]
  },
  {
   "cell_type": "code",
   "execution_count": 217,
   "metadata": {},
   "outputs": [
    {
     "data": {
      "text/plain": [
       "array([1657190.87301587])"
      ]
     },
     "execution_count": 217,
     "metadata": {},
     "output_type": "execute_result"
    }
   ],
   "source": [
    "pickled_model.predict(test2.reshape(1,-1))"
   ]
  },
  {
   "cell_type": "code",
   "execution_count": 218,
   "metadata": {},
   "outputs": [
    {
     "data": {
      "text/plain": [
       "array([1818913.08441558])"
      ]
     },
     "execution_count": 218,
     "metadata": {},
     "output_type": "execute_result"
    }
   ],
   "source": [
    "pickled_model.predict(test3.reshape(1,-1))"
   ]
  },
  {
   "cell_type": "code",
   "execution_count": null,
   "metadata": {},
   "outputs": [],
   "source": []
  }
 ],
 "metadata": {
  "kernelspec": {
   "display_name": "Python 3",
   "language": "python",
   "name": "python3"
  },
  "language_info": {
   "codemirror_mode": {
    "name": "ipython",
    "version": 3
   },
   "file_extension": ".py",
   "mimetype": "text/x-python",
   "name": "python",
   "nbconvert_exporter": "python",
   "pygments_lexer": "ipython3",
   "version": "3.8.1"
  }
 },
 "nbformat": 4,
 "nbformat_minor": 4
}
